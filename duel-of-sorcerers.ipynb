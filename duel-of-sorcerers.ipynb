{
 "cells": [
  {
   "cell_type": "markdown",
   "metadata": {},
   "source": [
    "<img src=\"https://bit.ly/2VnXWr2\" width=\"100\" align=\"left\">"
   ]
  },
  {
   "cell_type": "markdown",
   "metadata": {},
   "source": [
    "# Duel of Sorcerers\n",
    "You are witnessing an epic battle between two powerful sorcerers: Gandalf and Saruman. Each sorcerer has 10 spells of variable power in their mind and they are going to throw them one after the other. The winner of the duel will be the one who wins more of those clashes between spells. Spells are represented as a list of 10 integers whose value equals the power of the spell.\n",
    "```\n",
    "gandalf = [10, 11, 13, 30, 22, 11, 10, 33, 22, 22]\n",
    "saruman = [23, 66, 12, 43, 12, 10, 44, 23, 12, 17]\n",
    "```\n",
    "For example:\n",
    "- The first clash is won by Saruman: 10 against 23.\n",
    "- The second clash is won by Saruman: 11 against 66.\n",
    "- ...\n",
    "\n",
    "You will create two variables, one for each sorcerer, where the sum of clashes won will be stored. Depending on which variable is greater at the end of the duel, you will show one of the following three results on the screen:\n",
    "* Gandalf wins\n",
    "* Saruman wins\n",
    "* Tie\n",
    "\n",
    "<img src=\"images/content_lightning_bolt_big.jpg\" width=\"400\">"
   ]
  },
  {
   "cell_type": "markdown",
   "metadata": {},
   "source": [
    "## Tools\n",
    "You don't necessarily need to use all the tools. Maybe you opt to use some of them or completely different ones, they are given to help you shape the exercise. Programming exercises can be solved in many different ways.\n",
    "\n",
    "1. Data structures: **lists, dictionaries**\n",
    "2. Loop: **for loop**\n",
    "3. Conditional statements: **if-elif-else**\n",
    "4. Functions: **range(), len(), print()**\n",
    "\n",
    "## Tasks\n",
    "\n",
    "#### 1. Create two variables called `gandalf` and `saruman` and assign them the spell power lists. Create a variable called `spells` to store the number of spells that the sorcerers cast. "
   ]
  },
  {
   "cell_type": "code",
   "execution_count": 143,
   "metadata": {},
   "outputs": [],
   "source": [
    "gandalf = [10, 11, 13, 30, 22, 11, 10, 33, 22, 22]\n",
    "saruman = [23, 66, 12, 43, 12, 10, 44, 23, 12, 17]\n",
    "spells=[]"
   ]
  },
  {
   "cell_type": "markdown",
   "metadata": {},
   "source": [
    "#### 2. Create two variables called `gandalf_wins` and `saruman_wins`. Set both of them to 0. \n",
    "You will use these variables to count the number of clashes each sorcerer wins. "
   ]
  },
  {
   "cell_type": "code",
   "execution_count": 144,
   "metadata": {},
   "outputs": [],
   "source": [
    "gandalf_wins=0\n",
    "saruman_wins=0"
   ]
  },
  {
   "cell_type": "markdown",
   "metadata": {},
   "source": [
    "#### 3. Using the lists of spells of both sorcerers, update variables `gandalf_wins` and `saruman_wins` to count the number of times each sorcerer wins a clash. "
   ]
  },
  {
   "cell_type": "code",
   "execution_count": 145,
   "metadata": {},
   "outputs": [
    {
     "name": "stdout",
     "output_type": "stream",
     "text": [
      "[-13, -55, 1, -13, 10, 1, -34, 10, 10, 5]\n",
      "saruman Wins: 4\n",
      "Gandalf Wins: 6\n"
     ]
    }
   ],
   "source": [
    "zip_object = zip(gandalf,saruman)\n",
    "for gandalf_i, saruman_i in zip_object:\n",
    "    spells.append(gandalf_i-saruman_i)\n",
    "print(spells)\n",
    "\n",
    "i=0\n",
    "while i<10:\n",
    "    if(spells[i] < 0):\n",
    "        saruman_wins += 1\n",
    "    elif(spells[i] > 0):\n",
    "        gandalf_wins += 1\n",
    "    i +=1 \n",
    "    \n",
    "print(\"saruman Wins:\", saruman_wins)\n",
    "print(\"Gandalf Wins:\", gandalf_wins)       "
   ]
  },
  {
   "cell_type": "markdown",
   "metadata": {},
   "source": [
    "#### 4. Who won the battle?\n",
    "Print `Gandalf wins`, `Saruman wins` or `Tie` depending on the result. "
   ]
  },
  {
   "cell_type": "code",
   "execution_count": 152,
   "metadata": {},
   "outputs": [
    {
     "name": "stdout",
     "output_type": "stream",
     "text": [
      "Gandalf [10, 11, 13, 30, 22, 11, 10, 33, 22, 22]\n",
      "Saruman [23, 66, 12, 43, 12, 10, 44, 23, 12, 17]\n",
      "Saruman Wins\n",
      "Saruman Wins\n",
      "Gandalf Wins\n",
      "Saruman Wins\n",
      "Gandalf Wins\n",
      "Gandalf Wins\n",
      "Saruman Wins\n",
      "Gandalf Wins\n",
      "Gandalf Wins\n",
      "Gandalf Wins\n"
     ]
    }
   ],
   "source": [
    "print(\"Gandalf\",gandalf)\n",
    "print(\"Saruman\",saruman)\n",
    "\n",
    "i=0\n",
    "while i<10:\n",
    "    if(spells[i]<0):\n",
    "        print(\"Saruman Wins\")\n",
    "    elif(spells[i]>0):\n",
    "        print(\"Gandalf Wins\")\n",
    "    else:\n",
    "        Print(\"Tie\")\n",
    "    i+=1"
   ]
  },
  {
   "cell_type": "markdown",
   "metadata": {},
   "source": [
    "## Bonus\n",
    "\n",
    "In this bonus challenge, you'll need to check the winner of the battle but this time, a sorcerer wins if he succeeds in winning 3 spell clashes in a row.\n",
    "\n",
    "Also, the spells now have a name and there is a dictionary that associates that name to a power.\n",
    "\n",
    "```\n",
    "POWER = {\n",
    "    'Fireball': 50, \n",
    "    'Lightning bolt': 40, \n",
    "    'Magic arrow': 10, \n",
    "    'Black Tentacles': 25, \n",
    "    'Contagion': 45\n",
    "}\n",
    "\n",
    "gandalf = ['Fireball', 'Lightning bolt', 'Lightning bolt', 'Magic arrow', 'Fireball', \n",
    "           'Magic arrow', 'Lightning bolt', 'Fireball', 'Fireball', 'Fireball']\n",
    "saruman = ['Contagion', 'Contagion', 'Black Tentacles', 'Fireball', 'Black Tentacles', \n",
    "           'Lightning bolt', 'Magic arrow', 'Contagion', 'Magic arrow', 'Magic arrow']\n",
    "```\n",
    "\n",
    "#### 1. Create variables `POWER`, `gandalf` and `saruman` as seen above. Create a variable called `spells` to store the number of spells that the sorcerers cast. "
   ]
  },
  {
   "cell_type": "code",
   "execution_count": 263,
   "metadata": {},
   "outputs": [],
   "source": [
    "POWER = {\n",
    "    'Fireball': 50, \n",
    "    'Lightning bolt': 40, \n",
    "    'Magic arrow': 10, \n",
    "    'Black Tentacles': 25, \n",
    "    'Contagion': 45\n",
    "}\n",
    "gandalf = ['Fireball', 'Lightning bolt', 'Lightning bolt', 'Magic arrow', 'Fireball', \n",
    "           'Magic arrow', 'Lightning bolt', 'Fireball', 'Fireball', 'Fireball']\n",
    "saruman = ['Contagion', 'Contagion', 'Black Tentacles', 'Fireball', 'Black Tentacles', \n",
    "           'Lightning bolt', 'Magic arrow', 'Contagion', 'Magic arrow', 'Magic arrow']\n"
   ]
  },
  {
   "cell_type": "markdown",
   "metadata": {},
   "source": [
    "#### 2. Create two variables called `gandalf_wins` and `saruman_wins`. Set both of them to 0. "
   ]
  },
  {
   "cell_type": "code",
   "execution_count": 264,
   "metadata": {},
   "outputs": [],
   "source": [
    "gandalf_wins=0\n",
    "saruman_wins=0"
   ]
  },
  {
   "cell_type": "markdown",
   "metadata": {},
   "source": [
    "#### 3. Create two variables called `gandalf_power` and `saruman_power` to store the list of spell powers of each sorcerer."
   ]
  },
  {
   "cell_type": "code",
   "execution_count": 286,
   "metadata": {},
   "outputs": [
    {
     "name": "stdout",
     "output_type": "stream",
     "text": [
      "[50, 40, 40, 10, 50, 10, 40, 50, 50, 50]\n",
      "[45, 45, 25, 50, 25, 40, 10, 45, 10, 10]\n"
     ]
    }
   ],
   "source": [
    "gandalf_power=[]\n",
    "saruman_power=[]\n",
    "n=0\n",
    "for n in gandalf:\n",
    "    gp = POWER.get(n, '')\n",
    "    gandalf_power.append(gp)\n",
    "print(gandalf_power)\n",
    "\n",
    "for n in saruman:\n",
    "    gp = POWER.get(n, '')\n",
    "    saruman_power.append(gp)\n",
    "print(saruman_power)\n",
    "\n"
   ]
  },
  {
   "cell_type": "markdown",
   "metadata": {},
   "source": [
    "#### 4. The battle starts! Using the variables you've created above, code the execution of spell clashes. Remember that a sorcerer wins if he succeeds in winning 3 spell clashes in a row. \n",
    "If a clash ends up in a tie, the counter of wins in a row is not restarted to 0. Remember to print who is the winner of the battle. "
   ]
  },
  {
   "cell_type": "code",
   "execution_count": 281,
   "metadata": {},
   "outputs": [
    {
     "name": "stdout",
     "output_type": "stream",
     "text": [
      "[5, -5, 15, -40, 25, -30, 30, 5, 40, 40]\n",
      "Gandalf Wins\n",
      "Saruman Wins\n",
      "Gandalf Wins\n",
      "Saruman Wins\n",
      "Gandalf Wins\n",
      "Saruman Wins\n",
      "Gandalf Wins\n",
      "Gandalf Wins\n",
      "Gandalf Wins\n",
      "Gandalf Wins\n",
      "[2, 1, 2, 1, 2, 1, 2, 2, 2, 2]\n"
     ]
    }
   ],
   "source": [
    "#UNSOLVED\n",
    "\n",
    "\n",
    "spell_power_result=[]\n",
    "zip_object = zip(gandalf_power,saruman_power)\n",
    "for gandalf_i, saruman_i in zip_object:\n",
    "    spell_power_result.append(gandalf_i-saruman_i)\n",
    "print(spell_power_result)\n",
    "clash=[]\n",
    "        \n",
    "i=0\n",
    "while i<10:\n",
    "    if(spell_power_result[i]<0):\n",
    "        clash.append(1)\n",
    "        print(\"Saruman Wins\")\n",
    "    elif(spell_power_result[i]>0):\n",
    "        clash.append(2)\n",
    "        print(\"Gandalf Wins\")\n",
    "    else:\n",
    "        Print(\"Tie\")\n",
    "    i+=1\n",
    "print(clash)\n",
    "\n"
   ]
  },
  {
   "cell_type": "markdown",
   "metadata": {},
   "source": [
    "#### 5. Find the average spell power of Gandalf and Saruman. "
   ]
  },
  {
   "cell_type": "code",
   "execution_count": 295,
   "metadata": {},
   "outputs": [
    {
     "name": "stdout",
     "output_type": "stream",
     "text": [
      "Nean for Gandalf power is 30.5\n",
      "Mean for Saruman power is 30.5\n"
     ]
    }
   ],
   "source": [
    "import statistics\n",
    "dp=float(statistics.mean(gandalf_power))\n",
    "dp=float(statistics.mean(saruman_power))\n",
    "print(\"Nean for Gandalf power is\",dp)\n",
    "print(\"Mean for Saruman power is\",dp)"
   ]
  },
  {
   "cell_type": "markdown",
   "metadata": {},
   "source": [
    "#### 6. Find the standard deviation of the spell power of Gandalf and Saruman. "
   ]
  },
  {
   "cell_type": "code",
   "execution_count": 304,
   "metadata": {},
   "outputs": [
    {
     "name": "stdout",
     "output_type": "stream",
     "text": [
      "Standard deviation for Gandalf power is 16.40629960309962\n",
      "Standard deviation for Saruman power is 16.40629960309962\n"
     ]
    }
   ],
   "source": [
    "import statistics\n",
    "dp=float(statistics.stdev(gandalf_power))\n",
    "dp=float(statistics.stdev(saruman_power))\n",
    "print(\"Standard deviation for Gandalf power is\",dp)\n",
    "print(\"Standard deviation for Saruman power is\",dp)"
   ]
  }
 ],
 "metadata": {
  "kernelspec": {
   "display_name": "Python 3",
   "language": "python",
   "name": "python3"
  },
  "language_info": {
   "codemirror_mode": {
    "name": "ipython",
    "version": 3
   },
   "file_extension": ".py",
   "mimetype": "text/x-python",
   "name": "python",
   "nbconvert_exporter": "python",
   "pygments_lexer": "ipython3",
   "version": "3.7.6"
  }
 },
 "nbformat": 4,
 "nbformat_minor": 2
}
