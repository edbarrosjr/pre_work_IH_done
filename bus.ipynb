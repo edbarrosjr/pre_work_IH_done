{
 "cells": [
  {
   "cell_type": "markdown",
   "metadata": {},
   "source": [
    "<img src=\"https://bit.ly/2VnXWr2\" width=\"100\" align=\"left\">"
   ]
  },
  {
   "cell_type": "markdown",
   "metadata": {},
   "source": [
    "# Bus\n",
    "\n",
    "This bus has a passenger entry and exit control system to monitor the number of occupants it carries and thus detect when there are too many.\n",
    "\n",
    "At each stop, the entry and exit of passengers is represented by a tuple consisting of two integer numbers.\n",
    "```\n",
    "bus_stop = (in, out)\n",
    "```\n",
    "The succession of stops is represented by a list of these tuples.\n",
    "```\n",
    "stops = [(in1, out1), (in2, out2), (in3, out3), (in4, out4)]\n",
    "```\n",
    "\n",
    "## Tools\n",
    "You don't necessarily need to use all the tools. Maybe you opt to use some of them or completely different ones, they are given to help you shape the exercise. Programming exercises can be solved in many different ways.\n",
    "* Data structures: **lists, tuples**\n",
    "* Loop: **while/for loops**\n",
    "* Functions: **min, max, len**\n",
    "\n",
    "## Tasks"
   ]
  },
  {
   "cell_type": "code",
   "execution_count": 3,
   "metadata": {},
   "outputs": [],
   "source": [
    "# Variables\n",
    "stops = [(10, 0), (4, 1), (3, 5), (3, 4), (5, 1), (1, 5), (5, 8), (4, 6), (2, 3)]"
   ]
  },
  {
   "cell_type": "markdown",
   "metadata": {},
   "source": [
    "#### 1. Calculate the number of stops."
   ]
  },
  {
   "cell_type": "code",
   "execution_count": 4,
   "metadata": {},
   "outputs": [
    {
     "name": "stdout",
     "output_type": "stream",
     "text": [
      "9\n"
     ]
    }
   ],
   "source": [
    "number_stops=len(stops)\n",
    "print(number_stops)"
   ]
  },
  {
   "cell_type": "markdown",
   "metadata": {},
   "source": [
    "#### 2. Assign to a variable a list whose elements are the number of passengers at each stop (in-out).\n",
    "Each item depends on the previous item in the list + in - out."
   ]
  },
  {
   "cell_type": "code",
   "execution_count": 20,
   "metadata": {},
   "outputs": [
    {
     "name": "stdout",
     "output_type": "stream",
     "text": [
      "[10, 13, 11, 10, 14, 10, 7, 5]\n",
      "[10, 13, 11, 10, 14, 10, 7, 5]\n"
     ]
    }
   ],
   "source": [
    "list_stops = []\n",
    "\n",
    "for value in range(len(stops)-1):\n",
    "    a = sum(i[0] for i in stops[:(value + 1)])\n",
    "    b = sum(i[1] for i in stops[:(value + 1)])\n",
    "    list_stops.append(a-b)\n",
    "   \n",
    "print(list_stops)\n",
    "\n",
    "num_pass=[]\n",
    "i=1\n",
    "x=(stops[0][0])-(stops[0][1])\n",
    "num_pass.append(x)\n",
    "x=x+(stops[1][0])-(stops[1][1])\n",
    "num_pass.append(x)\n",
    "x=x+(stops[2][0])-(stops[2][1])\n",
    "num_pass.append(x)\n",
    "x=x+(stops[3][0])-(stops[3][1])\n",
    "num_pass.append(x)\n",
    "x=x+(stops[4][0])-(stops[4][1])\n",
    "num_pass.append(x)\n",
    "x=x+(stops[5][0])-(stops[5][1])\n",
    "num_pass.append(x)\n",
    "x=x+(stops[6][0])-(stops[6][1])\n",
    "num_pass.append(x)\n",
    "x=x+(stops[7][0])-(stops[7][1])\n",
    "num_pass.append(x)\n",
    "x=x+(stops[8][0])-(stops[8][1])\n",
    "\n",
    "print(num_pass)\n"
   ]
  },
  {
   "cell_type": "markdown",
   "metadata": {},
   "source": [
    "#### 3. Find the maximum occupation of the bus."
   ]
  },
  {
   "cell_type": "code",
   "execution_count": 16,
   "metadata": {},
   "outputs": [
    {
     "name": "stdout",
     "output_type": "stream",
     "text": [
      "14\n"
     ]
    }
   ],
   "source": [
    "maximum_occupation = max(list_maximum_occupation)\n",
    "print(maximum_occupation)\n"
   ]
  },
  {
   "cell_type": "markdown",
   "metadata": {},
   "source": [
    "#### 4. Calculate the average occupation. And the standard deviation."
   ]
  },
  {
   "cell_type": "code",
   "execution_count": 18,
   "metadata": {},
   "outputs": [
    {
     "name": "stdout",
     "output_type": "stream",
     "text": [
      "20.0\n"
     ]
    }
   ],
   "source": [
    "average_occupation = sum(list_maximum_occupation) / (len(list_of_stops) - 1)\n",
    "print(average_occupation)"
   ]
  }
 ],
 "metadata": {
  "kernelspec": {
   "display_name": "Python 3",
   "language": "python",
   "name": "python3"
  },
  "language_info": {
   "codemirror_mode": {
    "name": "ipython",
    "version": 3
   },
   "file_extension": ".py",
   "mimetype": "text/x-python",
   "name": "python",
   "nbconvert_exporter": "python",
   "pygments_lexer": "ipython3",
   "version": "3.7.6"
  }
 },
 "nbformat": 4,
 "nbformat_minor": 2
}
